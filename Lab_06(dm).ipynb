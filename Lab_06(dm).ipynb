{
  "nbformat": 4,
  "nbformat_minor": 0,
  "metadata": {
    "colab": {
      "provenance": [],
      "authorship_tag": "ABX9TyPo2m7wjSpF9HS+qiU2j12O",
      "include_colab_link": true
    },
    "kernelspec": {
      "name": "python3",
      "display_name": "Python 3"
    },
    "language_info": {
      "name": "python"
    }
  },
  "cells": [
    {
      "cell_type": "markdown",
      "metadata": {
        "id": "view-in-github",
        "colab_type": "text"
      },
      "source": [
        "<a href=\"https://colab.research.google.com/github/NelliRishitha/DATA-MINING/blob/main/Lab_06(dm).ipynb\" target=\"_parent\"><img src=\"https://colab.research.google.com/assets/colab-badge.svg\" alt=\"Open In Colab\"/></a>"
      ]
    },
    {
      "cell_type": "code",
      "execution_count": null,
      "metadata": {
        "id": "m54FWpaDhA-y"
      },
      "outputs": [],
      "source": [
        "import pandas as pd\n",
        "data = {\n",
        "    \"Employee\": [\"John\", \"Sarah\", \"Mike\", \"Emma\", \"Tom\"],\n",
        "    \"Department\": [\"IT\", \"HR\", \"IT\", \"Finance\", \"HR\"],\n",
        "    \"Salary\": [60000, 50000, 75000, 65000, 48000],\n",
        "    \"Experience (Years)\": [5, 3, 7, 4, 2],\n",
        "    \"Performance Rating\": [4.5, 3.8, 4.9, 4.2, 3.5]\n",
        "}\n",
        "df = pd.DataFrame(data)"
      ]
    },
    {
      "cell_type": "code",
      "source": [
        "avg_salary = df.groupby(\"Department\")[\"Salary\"].mean()\n",
        "print(\"Average Salary per Department:\\n\", avg_salary)"
      ],
      "metadata": {
        "colab": {
          "base_uri": "https://localhost:8080/"
        },
        "id": "7ljQw5fKllt1",
        "outputId": "4b2c8f3e-fc63-4bbf-c7ed-2f37c873ce74"
      },
      "execution_count": null,
      "outputs": [
        {
          "output_type": "stream",
          "name": "stdout",
          "text": [
            "Average Salary per Department:\n",
            " Department\n",
            "Finance    65000.0\n",
            "HR         49000.0\n",
            "IT         67500.0\n",
            "Name: Salary, dtype: float64\n"
          ]
        }
      ]
    },
    {
      "cell_type": "code",
      "source": [
        "high_performers = df[df[\"Performance Rating\"] > 4.0]\n",
        "print(\"\\nEmployees with Performance Rating above 4.0:\\n\", high_performers)"
      ],
      "metadata": {
        "colab": {
          "base_uri": "https://localhost:8080/"
        },
        "id": "CSHEj42blzrZ",
        "outputId": "a4759ec0-9c60-41d6-d5c4-473d4964190b"
      },
      "execution_count": null,
      "outputs": [
        {
          "output_type": "stream",
          "name": "stdout",
          "text": [
            "\n",
            "Employees with Performance Rating above 4.0:\n",
            "   Employee Department  Salary  Experience (Years)  Performance Rating\n",
            "0     John         IT   60000                   5                 4.5\n",
            "2     Mike         IT   75000                   7                 4.9\n",
            "3     Emma    Finance   65000                   4                 4.2\n"
          ]
        }
      ]
    },
    {
      "cell_type": "code",
      "source": [
        "# Calculating new salary after increment\n",
        "df[\"New Salary\"] = df[\"Salary\"] + df[\"Increment\"]"
      ],
      "metadata": {
        "id": "ghLjNv_Zm0il"
      },
      "execution_count": null,
      "outputs": []
    },
    {
      "cell_type": "code",
      "source": [
        "# Sorting employees in descending order of new salary\n",
        "df_sorted = df.sort_values(by=\"New Salary\", ascending=False)\n",
        "print(\"\\nEmployees sorted by new salary:\\n\", df_sorted)"
      ],
      "metadata": {
        "colab": {
          "base_uri": "https://localhost:8080/"
        },
        "id": "zv0_8OVCm2vb",
        "outputId": "056beebf-06b0-43fe-8e90-e952e0ca59d2"
      },
      "execution_count": null,
      "outputs": [
        {
          "output_type": "stream",
          "name": "stdout",
          "text": [
            "\n",
            "Employees sorted by new salary:\n",
            "   Employee Department  Salary  Experience (Years)  Performance Rating  \\\n",
            "2     Mike         IT   75000                   7                 4.9   \n",
            "3     Emma    Finance   65000                   4                 4.2   \n",
            "0     John         IT   60000                   5                 4.5   \n",
            "1    Sarah         HR   50000                   3                 3.8   \n",
            "4      Tom         HR   48000                   2                 3.5   \n",
            "\n",
            "   Increment  New Salary  \n",
            "2     7500.0     82500.0  \n",
            "3     6500.0     71500.0  \n",
            "0     6000.0     66000.0  \n",
            "1     2500.0     52500.0  \n",
            "4     2400.0     50400.0  \n"
          ]
        }
      ]
    },
    {
      "cell_type": "code",
      "source": [
        "import pandas as pd\n",
        "# Creating the DataFrame\n",
        "data = {\n",
        "    \"City\": [\"New York\", \"Los Angeles\", \"Chicago\", \"Houston\", \"Miami\"],\n",
        "    \"Total Cases\": [100000, 85000, 65000, 70000, 55000],\n",
        "    \"Recovered\": [75000, 70000, 50000, 60000, 45000],\n",
        "    \"Deaths\": [5000, 3500, 2500, 2000, 1500]\n",
        "}\n",
        "df = pd.DataFrame(data)"
      ],
      "metadata": {
        "id": "xXcuxMKsoRzs"
      },
      "execution_count": null,
      "outputs": []
    },
    {
      "cell_type": "code",
      "source": [
        "# Calculating the recovery rate\n",
        "df[\"Recovery Rate (%)\"] = (df[\"Recovered\"] / df[\"Total Cases\"]) * 100\n",
        "\n",
        "# Displaying the DataFrame\n",
        "print(df)"
      ],
      "metadata": {
        "colab": {
          "base_uri": "https://localhost:8080/"
        },
        "id": "PlzGpdnntEx1",
        "outputId": "57995efd-84fd-4cc2-8cff-5dba099ffd6d"
      },
      "execution_count": null,
      "outputs": [
        {
          "output_type": "stream",
          "name": "stdout",
          "text": [
            "          City  Total Cases  Recovered  Deaths  Recovery Rate (%)\n",
            "0     New York       100000      75000    5000          75.000000\n",
            "1  Los Angeles        85000      70000    3500          82.352941\n",
            "2      Chicago        65000      50000    2500          76.923077\n",
            "3      Houston        70000      60000    2000          85.714286\n",
            "4        Miami        55000      45000    1500          81.818182\n"
          ]
        }
      ]
    },
    {
      "cell_type": "code",
      "source": [
        "# Calculate Death Rate\n",
        "df[\"Death Rate (%)\"] = (df[\"Deaths\"] / df[\"Total Cases\"]) * 100\n"
      ],
      "metadata": {
        "id": "nDwNn3JCtzlg"
      },
      "execution_count": null,
      "outputs": []
    },
    {
      "cell_type": "code",
      "source": [
        "# Identify cities with death rate higher than 5%\n",
        "high_death_rate_cities = df[df[\"Death Rate (%)\"] > 5]"
      ],
      "metadata": {
        "id": "b78FcbQWuU1P"
      },
      "execution_count": null,
      "outputs": []
    },
    {
      "cell_type": "code",
      "source": [
        "# Sort cities by highest recovery rate\n",
        "df_sorted = df.sort_values(by=\"Recovery Rate (%)\", ascending=False)"
      ],
      "metadata": {
        "id": "hJ9hlgrVuZCX"
      },
      "execution_count": null,
      "outputs": []
    },
    {
      "cell_type": "code",
      "source": [
        "# Find total cases and deaths across all cities\n",
        "total_cases = df[\"Total Cases\"].sum()\n",
        "total_deaths = df[\"Deaths\"].sum()\n",
        "print(\"DataFrame with Recovery and Death Rates:\")\n",
        "print(df)\n",
        "print(\"\\nCities with Death Rate > 5%:\")\n",
        "print(high_death_rate_cities)\n",
        "print(\"\\nCities Sorted by Highest Recovery Rate:\")\n",
        "print(df_sorted)\n",
        "print(f\"\\nTotal Cases Across All Cities: {total_cases}\")\n",
        "print(f\"Total Deaths Across All Cities: {total_deaths}\")"
      ],
      "metadata": {
        "colab": {
          "base_uri": "https://localhost:8080/"
        },
        "id": "3xfvL_WVu3Yc",
        "outputId": "a8f3df6b-8d8d-4a82-9549-207f020affa5"
      },
      "execution_count": null,
      "outputs": [
        {
          "output_type": "stream",
          "name": "stdout",
          "text": [
            "DataFrame with Recovery and Death Rates:\n",
            "          City  Total Cases  Recovered  Deaths  Recovery Rate (%)  \\\n",
            "0     New York       100000      75000    5000          75.000000   \n",
            "1  Los Angeles        85000      70000    3500          82.352941   \n",
            "2      Chicago        65000      50000    2500          76.923077   \n",
            "3      Houston        70000      60000    2000          85.714286   \n",
            "4        Miami        55000      45000    1500          81.818182   \n",
            "\n",
            "   Death Rate (%)  \n",
            "0        5.000000  \n",
            "1        4.117647  \n",
            "2        3.846154  \n",
            "3        2.857143  \n",
            "4        2.727273  \n",
            "\n",
            "Cities with Death Rate > 5%:\n",
            "Empty DataFrame\n",
            "Columns: [City, Total Cases, Recovered, Deaths, Recovery Rate (%), Death Rate (%)]\n",
            "Index: []\n",
            "\n",
            "Cities Sorted by Highest Recovery Rate:\n",
            "          City  Total Cases  Recovered  Deaths  Recovery Rate (%)  \\\n",
            "3      Houston        70000      60000    2000          85.714286   \n",
            "1  Los Angeles        85000      70000    3500          82.352941   \n",
            "4        Miami        55000      45000    1500          81.818182   \n",
            "2      Chicago        65000      50000    2500          76.923077   \n",
            "0     New York       100000      75000    5000          75.000000   \n",
            "\n",
            "   Death Rate (%)  \n",
            "3        2.857143  \n",
            "1        4.117647  \n",
            "4        2.727273  \n",
            "2        3.846154  \n",
            "0        5.000000  \n",
            "\n",
            "Total Cases Across All Cities: 375000\n",
            "Total Deaths Across All Cities: 14500\n"
          ]
        }
      ]
    }
  ]
}